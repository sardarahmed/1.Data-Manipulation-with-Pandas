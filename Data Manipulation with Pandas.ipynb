{
 "cells": [
  {
   "cell_type": "code",
   "execution_count": 1,
   "id": "88fd7312",
   "metadata": {},
   "outputs": [
    {
     "ename": "NameError",
     "evalue": "name 'data' is not defined",
     "output_type": "error",
     "traceback": [
      "\u001B[1;31m---------------------------------------------------------------------------\u001B[0m",
      "\u001B[1;31mNameError\u001B[0m                                 Traceback (most recent call last)",
      "\u001B[1;32m~\\AppData\\Local\\Temp/ipykernel_5492/2627385067.py\u001B[0m in \u001B[0;36m<module>\u001B[1;34m\u001B[0m\n\u001B[1;32m----> 1\u001B[1;33m \u001B[0mdata\u001B[0m\u001B[1;33m.\u001B[0m\u001B[0minfo\u001B[0m\u001B[1;33m(\u001B[0m\u001B[1;33m)\u001B[0m\u001B[1;33m\u001B[0m\u001B[1;33m\u001B[0m\u001B[0m\n\u001B[0m\u001B[0;32m      2\u001B[0m \u001B[1;33m\u001B[0m\u001B[0m\n",
      "\u001B[1;31mNameError\u001B[0m: name 'data' is not defined"
     ]
    }
   ],
   "source": [
    "data.info()"
   ]
  },
  {
   "cell_type": "code",
   "execution_count": null,
   "id": "f2f3b27a",
   "metadata": {},
   "outputs": [],
   "source": [
    "data.shape"
   ]
  },
  {
   "cell_type": "code",
   "execution_count": null,
   "id": "0e044e6d",
   "metadata": {},
   "outputs": [],
   "source": [
    "data.describe()"
   ]
  },
  {
   "cell_type": "code",
   "execution_count": null,
   "id": "ec60ece5",
   "metadata": {},
   "outputs": [],
   "source": [
    "data.values"
   ]
  },
  {
   "cell_type": "code",
   "execution_count": null,
   "id": "8bd78c25",
   "metadata": {},
   "outputs": [],
   "source": [
    "data.columns"
   ]
  },
  {
   "cell_type": "code",
   "execution_count": null,
   "id": "0dbfe85e",
   "metadata": {},
   "outputs": [],
   "source": [
    "data.index"
   ]
  },
  {
   "cell_type": "code",
   "execution_count": null,
   "id": "fbb864c6",
   "metadata": {},
   "outputs": [],
   "source": [
    "data.sort_values('type')"
   ]
  },
  {
   "cell_type": "code",
   "execution_count": null,
   "id": "52de706e",
   "metadata": {},
   "outputs": [],
   "source": [
    "data.sort_values('type',ascending=False)"
   ]
  },
  {
   "cell_type": "code",
   "execution_count": null,
   "id": "b1245c32",
   "metadata": {},
   "outputs": [],
   "source": [
    "data.sort_values(['type','store'],ascending=False)"
   ]
  },
  {
   "cell_type": "code",
   "execution_count": null,
   "id": "497a5c0b",
   "metadata": {},
   "outputs": [],
   "source": [
    "data['type']"
   ]
  },
  {
   "cell_type": "code",
   "execution_count": null,
   "id": "4db7a99c",
   "metadata": {},
   "outputs": [],
   "source": [
    "data[['type','store']]"
   ]
  },
  {
   "cell_type": "code",
   "execution_count": null,
   "id": "087dc41f",
   "metadata": {},
   "outputs": [],
   "source": [
    "data_1=data['store']>5\n",
    "data_1.head()"
   ]
  },
  {
   "cell_type": "code",
   "execution_count": null,
   "id": "6e538c6b",
   "metadata": {},
   "outputs": [],
   "source": [
    "data[data['store'] >=5]"
   ]
  },
  {
   "cell_type": "code",
   "execution_count": null,
   "id": "ad1558f9",
   "metadata": {},
   "outputs": [],
   "source": [
    "data_1 = data['store'].isin([6,39])\n",
    "data[data_1]"
   ]
  },
  {
   "cell_type": "code",
   "execution_count": null,
   "id": "c824f612",
   "metadata": {},
   "outputs": [],
   "source": [
    "data['weekly_sales_in_k'] = data['weekly_sales']/1000\n"
   ]
  },
  {
   "cell_type": "code",
   "execution_count": null,
   "id": "1835505a",
   "metadata": {},
   "outputs": [],
   "source": [
    "data"
   ]
  },
  {
   "cell_type": "code",
   "execution_count": null,
   "id": "56549d92",
   "metadata": {},
   "outputs": [],
   "source": [
    "data['weekly_sales'].mean()"
   ]
  },
  {
   "cell_type": "code",
   "execution_count": null,
   "id": "5f2c13ab",
   "metadata": {},
   "outputs": [],
   "source": [
    "data['weekly_sales'].max()"
   ]
  },
  {
   "cell_type": "code",
   "execution_count": null,
   "id": "516ca2b3",
   "metadata": {},
   "outputs": [],
   "source": [
    "data['weekly_sales'].mode()"
   ]
  },
  {
   "cell_type": "code",
   "execution_count": null,
   "id": "92e9e3cc",
   "metadata": {},
   "outputs": [],
   "source": [
    "data['weekly_sales'].quantile()"
   ]
  },
  {
   "cell_type": "code",
   "execution_count": null,
   "id": "cf019eb1",
   "metadata": {},
   "outputs": [],
   "source": [
    "def weeklySales(column):\n",
    "    return column.quantile(0.4)\n",
    "data['weekly_sales'].agg(weeklySales)"
   ]
  },
  {
   "cell_type": "code",
   "execution_count": null,
   "id": "1b6250f3",
   "metadata": {},
   "outputs": [],
   "source": [
    "data['store'].cumsum()"
   ]
  },
  {
   "cell_type": "code",
   "execution_count": null,
   "id": "97970c0f",
   "metadata": {},
   "outputs": [],
   "source": [
    "data.drop_duplicates(subset='weekly_sales')"
   ]
  },
  {
   "cell_type": "code",
   "execution_count": null,
   "id": "c85e07b4",
   "metadata": {},
   "outputs": [],
   "source": [
    "data['type'].value_counts(normalize=True)"
   ]
  },
  {
   "cell_type": "code",
   "execution_count": null,
   "id": "f8741162",
   "metadata": {},
   "outputs": [],
   "source": [
    "data[data['type']=='B']['weekly_sales'].mean()"
   ]
  },
  {
   "cell_type": "code",
   "execution_count": null,
   "id": "b56f8f99",
   "metadata": {},
   "outputs": [],
   "source": [
    "data.groupby('type')['weekly_sales'].mean()"
   ]
  },
  {
   "cell_type": "code",
   "execution_count": null,
   "id": "1f47b4c0",
   "metadata": {},
   "outputs": [],
   "source": [
    "data.groupby('type')['weekly_sales'].agg([max,min])"
   ]
  },
  {
   "cell_type": "code",
   "execution_count": null,
   "id": "3c4bf98c",
   "metadata": {},
   "outputs": [],
   "source": [
    "data.groupby(['type','store'])['weekly_sales'].agg([max,min])"
   ]
  },
  {
   "cell_type": "code",
   "execution_count": null,
   "id": "d4ed41ae",
   "metadata": {},
   "outputs": [],
   "source": [
    "data.pivot_table(values='weekly_sales',index='type',columns='store',aggfunc=np.mean)"
   ]
  },
  {
   "cell_type": "code",
   "execution_count": null,
   "id": "595dd6dc",
   "metadata": {},
   "outputs": [],
   "source": [
    "data.set_index('type')"
   ]
  },
  {
   "cell_type": "code",
   "execution_count": null,
   "id": "d57623e1",
   "metadata": {},
   "outputs": [],
   "source": [
    "data.reset_index(drop=True)"
   ]
  },
  {
   "cell_type": "code",
   "execution_count": null,
   "id": "a7f3d700",
   "metadata": {},
   "outputs": [],
   "source": [
    "data1= data.set_index(['store','department'])\n",
    "data1"
   ]
  },
  {
   "cell_type": "code",
   "execution_count": null,
   "id": "61e87cde",
   "metadata": {},
   "outputs": [],
   "source": [
    "data1.loc[2:2]"
   ]
  },
  {
   "cell_type": "code",
   "execution_count": null,
   "id": "d07992f7",
   "metadata": {},
   "outputs": [],
   "source": [
    "data.sort_index(level=['department'], ascending=[False])"
   ]
  },
  {
   "cell_type": "code",
   "execution_count": null,
   "id": "648502bf",
   "metadata": {},
   "outputs": [],
   "source": [
    "data.loc[:,\"weekly_sales\":\"temperature_c\"]"
   ]
  },
  {
   "cell_type": "code",
   "execution_count": null,
   "id": "d9259580",
   "metadata": {},
   "outputs": [],
   "source": [
    "data1.mean(axis=\"index\")"
   ]
  },
  {
   "cell_type": "code",
   "execution_count": null,
   "id": "78e6f1c1",
   "metadata": {},
   "outputs": [],
   "source": [
    "data['weekly_sales'].hist()"
   ]
  },
  {
   "cell_type": "code",
   "execution_count": null,
   "id": "747de9f3",
   "metadata": {},
   "outputs": [],
   "source": [
    "data.groupby('type')['weekly_sales'].mean().plot(kind='bar',title='Mean Weekly Sales by Type')"
   ]
  },
  {
   "cell_type": "code",
   "execution_count": null,
   "id": "768288bc",
   "metadata": {},
   "outputs": [],
   "source": [
    "data.plot(x='store',y='weekly_sales',kind='scatter')\n",
    "plt.show()"
   ]
  },
  {
   "cell_type": "code",
   "execution_count": null,
   "id": "ea7ad323",
   "metadata": {},
   "outputs": [],
   "source": [
    "data[data['type']=='A']['weekly_sales'].hist(alpha=0.7)\n",
    "data[data['type']=='B']['weekly_sales'].hist(alpha=0.7)\n",
    "plt.legend(['Type A','Type B'])\n",
    "plt.show("
   ]
  },
  {
   "cell_type": "code",
   "execution_count": null,
   "id": "b283cad8",
   "metadata": {},
   "outputs": [],
   "source": [
    "data.isna()"
   ]
  },
  {
   "cell_type": "code",
   "execution_count": null,
   "id": "02673b5a",
   "metadata": {},
   "outputs": [],
   "source": [
    "data.isna().sum()"
   ]
  },
  {
   "cell_type": "code",
   "execution_count": null,
   "id": "1728368d",
   "metadata": {},
   "outputs": [],
   "source": []
  }
 ],
 "metadata": {
  "kernelspec": {
   "display_name": "Python 3.10.4 64-bit",
   "language": "python",
   "name": "python3"
  },
  "language_info": {
   "codemirror_mode": {
    "name": "ipython",
    "version": 3
   },
   "file_extension": ".py",
   "mimetype": "text/x-python",
   "name": "python",
   "nbconvert_exporter": "python",
   "pygments_lexer": "ipython3",
   "version": "3.9.7"
  },
  "vscode": {
   "interpreter": {
    "hash": "76d7c06053c3456e5600312cec90888656fc0ed30c03d8425b9dac6e4fc8e014"
   }
  },
  "pycharm": {
   "stem_cell": {
    "cell_type": "raw",
    "source": [
     "\n",
     "import pandas as pd\n",
     "import numpy as np\n",
     "import  matplotlib.pyplot as plt\n",
     "\n",
     "\n",
     "data = pd.read_csv('walmart.csv')\n",
     "data\n",
     "\n",
     "data.head()\n"
    ],
    "metadata": {
     "collapsed": false
    }
   }
  }
 },
 "nbformat": 4,
 "nbformat_minor": 5
}